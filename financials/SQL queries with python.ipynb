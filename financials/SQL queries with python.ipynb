{
 "cells": [
  {
   "cell_type": "code",
   "execution_count": 1,
   "id": "9bc6cb8d",
   "metadata": {},
   "outputs": [],
   "source": [
    "import pandas as pd\n",
    "import sqlite3"
   ]
  },
  {
   "cell_type": "code",
   "execution_count": 3,
   "id": "fd633cb6",
   "metadata": {},
   "outputs": [],
   "source": [
    "conn = sqlite3.connect('financials.db')\n",
    "corr = conn.cursor()"
   ]
  },
  {
   "cell_type": "code",
   "execution_count": 118,
   "id": "f458b202",
   "metadata": {},
   "outputs": [],
   "source": [
    "query1 = '''\n",
    "select c.country, sum(f.[total revenue]) as revenue_generated_by_each_country from financial_records f,companies c\n",
    "where f.symbol = c.symbol\n",
    "Group by c.country\n",
    "having c.country = \"China\"\n",
    "'''"
   ]
  },
  {
   "cell_type": "code",
   "execution_count": 119,
   "id": "034437d0",
   "metadata": {},
   "outputs": [
    {
     "data": {
      "text/plain": [
       "[('China', 1570697720.0)]"
      ]
     },
     "execution_count": 119,
     "metadata": {},
     "output_type": "execute_result"
    }
   ],
   "source": [
    "corr.execute(query1)\n",
    "corr.fetchall()"
   ]
  },
  {
   "cell_type": "code",
   "execution_count": 122,
   "id": "47053dbd",
   "metadata": {},
   "outputs": [],
   "source": [
    "query2 = '''\n",
    "select c.name , f.[net income] from companies c, financial_records f\n",
    "where c.country = \"China\"\n",
    "order by f.[net income]\n",
    "limit 5\n",
    "'''"
   ]
  },
  {
   "cell_type": "code",
   "execution_count": 123,
   "id": "c608acbe",
   "metadata": {},
   "outputs": [
    {
     "data": {
      "text/plain": [
       "[('111 Inc. American Depositary Shares', -22440000.0),\n",
       " ('17 Education & Technology Group Inc. American Depositary Shares',\n",
       "  -22440000.0),\n",
       " ('36Kr Holdings Inc. American Depositary Shares', -22440000.0),\n",
       " ('51Talk Online Education Group American depositary shares each representing 60 Class A ordinary shares',\n",
       "  -22440000.0),\n",
       " ('9F Inc. American Depositary Shares', -22440000.0)]"
      ]
     },
     "execution_count": 123,
     "metadata": {},
     "output_type": "execute_result"
    }
   ],
   "source": [
    "corr.execute(query2)\n",
    "corr.fetchall()"
   ]
  },
  {
   "cell_type": "code",
   "execution_count": null,
   "id": "63d1be73",
   "metadata": {},
   "outputs": [],
   "source": []
  }
 ],
 "metadata": {
  "kernelspec": {
   "display_name": "Python 3 (ipykernel)",
   "language": "python",
   "name": "python3"
  },
  "language_info": {
   "codemirror_mode": {
    "name": "ipython",
    "version": 3
   },
   "file_extension": ".py",
   "mimetype": "text/x-python",
   "name": "python",
   "nbconvert_exporter": "python",
   "pygments_lexer": "ipython3",
   "version": "3.9.13"
  }
 },
 "nbformat": 4,
 "nbformat_minor": 5
}
