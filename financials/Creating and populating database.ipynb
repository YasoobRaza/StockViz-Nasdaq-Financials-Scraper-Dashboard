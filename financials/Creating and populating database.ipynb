{
 "cells": [
  {
   "cell_type": "code",
   "execution_count": 1,
   "id": "b284b6b5",
   "metadata": {},
   "outputs": [],
   "source": [
    "import pandas as pd\n",
    "import sqlite3"
   ]
  },
  {
   "cell_type": "code",
   "execution_count": 2,
   "id": "5d94e123",
   "metadata": {},
   "outputs": [],
   "source": [
    "f_rec = pd.read_csv('cleaned_financials.csv')"
   ]
  },
  {
   "cell_type": "code",
   "execution_count": 3,
   "id": "020442a1",
   "metadata": {},
   "outputs": [],
   "source": [
    "comp = pd.read_csv('companies.csv')"
   ]
  },
  {
   "cell_type": "code",
   "execution_count": 4,
   "id": "4e67fb46",
   "metadata": {},
   "outputs": [],
   "source": [
    "conn = sqlite3.connect('financials.db')\n",
    "curr = conn.cursor()"
   ]
  },
  {
   "cell_type": "code",
   "execution_count": 6,
   "id": "5871a13a",
   "metadata": {},
   "outputs": [
    {
     "data": {
      "text/plain": [
       "<sqlite3.Cursor at 0x27a168692d0>"
      ]
     },
     "execution_count": 6,
     "metadata": {},
     "output_type": "execute_result"
    }
   ],
   "source": [
    "create_companies_table = '''\n",
    "CREATE TABLE IF NOT EXISTS companies (\n",
    "    Symbol VARCHAR(50) PRIMARY KEY NOT NULL,\n",
    "    Name VARCHAR(1000) NOT NULL,\n",
    "    LastSale FLOAT,\n",
    "    NetChange FLOAT,\n",
    "    PercentChange FLOAT,\n",
    "    MarketCap FLOAT,\n",
    "    Country VARCHAR(500),\n",
    "    IPOYear YEAR,\n",
    "    Volume INT,\n",
    "    Sector VARCHAR(1000),\n",
    "    Industry VARCHAR(1000)\n",
    ");\n",
    "'''\n",
    "curr.execute(create_companies_table)"
   ]
  },
  {
   "cell_type": "code",
   "execution_count": 7,
   "id": "eec98e2e",
   "metadata": {},
   "outputs": [
    {
     "data": {
      "text/plain": [
       "<sqlite3.Cursor at 0x27a168692d0>"
      ]
     },
     "execution_count": 7,
     "metadata": {},
     "output_type": "execute_result"
    }
   ],
   "source": [
    "create_financial_records_table = '''\n",
    "CREATE TABLE IF NOT EXISTS financial_records (\n",
    "    Symbol VARCHAR(50) NOT NULL,\n",
    "    `Period Ending` DATE,\n",
    "    `Total Revenue` FLOAT,\n",
    "    `Cost of Revenue` FLOAT,\n",
    "    `Gross Profit` FLOAT,\n",
    "    `Net Income` FLOAT,\n",
    "    `Net Income Applicable to Common Shareholders` FLOAT,\n",
    "    `Total Assets` FLOAT,\n",
    "    `Total Liabilities` FLOAT,\n",
    "    `Total Equity` FLOAT,\n",
    "    FOREIGN KEY (Symbol) REFERENCES companies(Symbol)\n",
    ");\n",
    "'''\n",
    "\n",
    "curr.execute(create_financial_records_table)"
   ]
  },
  {
   "cell_type": "code",
   "execution_count": 8,
   "id": "85311c96",
   "metadata": {},
   "outputs": [],
   "source": [
    "insert_into_companies = '''INSERT INTO companies \n",
    "(Symbol, Name, LastSale, NetChange, PercentChange, MarketCap, Country, IPOYear, Volume, Sector, Industry)\n",
    "VALUES (?, ?, ?, ?, ?, ?, ?, ?, ?, ?, ?)\n",
    "'''"
   ]
  },
  {
   "cell_type": "code",
   "execution_count": 9,
   "id": "3e89176e",
   "metadata": {},
   "outputs": [],
   "source": [
    "insert_into_financial_records = '''INSERT INTO financial_records \n",
    "(Symbol, `Period Ending`, `Total Revenue`, `Cost of Revenue`, `Gross Profit`, `Net Income`, \n",
    "`Net Income Applicable to Common Shareholders`, `Total Assets`, `Total Liabilities`, `Total Equity`)\n",
    "VALUES (?,?,?,?,?,?,?,?,?,?);\n",
    "'''"
   ]
  },
  {
   "cell_type": "code",
   "execution_count": 12,
   "id": "c2f92ba0",
   "metadata": {},
   "outputs": [],
   "source": [
    "for i in range(len(comp)):\n",
    "    data = list(comp.iloc[i])\n",
    "    curr.execute(insert_into_companies, data)"
   ]
  },
  {
   "cell_type": "code",
   "execution_count": 13,
   "id": "f6428357",
   "metadata": {},
   "outputs": [],
   "source": [
    "for i in range(len(f_rec)):\n",
    "    data = list(f_rec.iloc[i])\n",
    "    curr.execute(insert_into_financial_records, data)"
   ]
  },
  {
   "cell_type": "code",
   "execution_count": 14,
   "id": "b301f2b6",
   "metadata": {},
   "outputs": [],
   "source": [
    "conn.commit()\n",
    "conn.close()"
   ]
  },
  {
   "cell_type": "code",
   "execution_count": 15,
   "id": "fd49f868",
   "metadata": {},
   "outputs": [],
   "source": [
    "# CREATE TABLE companies (\n",
    "#     Symbol VARCHAR(50) PRIMARY KEY NOT NULL,\n",
    "#     Name VARCHAR(1000) NOT NULL,\n",
    "#     LastSale FLOAT,\n",
    "#     NetChange FLOAT,\n",
    "#     PercentChange FLOAT,\n",
    "#     MarketCap FLOAT,\n",
    "#     Country VARCHAR(500),\n",
    "#     IPOYear YEAR,\n",
    "#     Volume INT,\n",
    "#     Sector VARCHAR(1000),\n",
    "#     Industry VARCHAR(1000)\n",
    "# );\n"
   ]
  },
  {
   "cell_type": "code",
   "execution_count": 94,
   "id": "90386c47",
   "metadata": {},
   "outputs": [
    {
     "data": {
      "text/plain": [
       "Symbol         object\n",
       "Name           object\n",
       "Last Sale     float64\n",
       "Net Change    float64\n",
       "% Change      float64\n",
       "Market Cap    float64\n",
       "Country        object\n",
       "IPO Year      float64\n",
       "Volume          int64\n",
       "Sector         object\n",
       "Industry       object\n",
       "dtype: object"
      ]
     },
     "execution_count": 94,
     "metadata": {},
     "output_type": "execute_result"
    }
   ],
   "source": [
    "comp.isna().sum()\n",
    "comp.dtypes"
   ]
  },
  {
   "cell_type": "code",
   "execution_count": null,
   "id": "45f977e3",
   "metadata": {},
   "outputs": [],
   "source": []
  },
  {
   "cell_type": "code",
   "execution_count": 56,
   "id": "fbc7b04c",
   "metadata": {},
   "outputs": [
    {
     "name": "stdout",
     "output_type": "stream",
     "text": [
      "[0, 'A', 'Agilent Technologies Inc. Common Stock', 114.19, 0.59, '0.519%', 33410540704.0, 'United States', 1999.0, 1727789, 'Industrials', 'Biotechnology: Laboratory Analytical Instruments']\n",
      "[1, 'AA', 'Alcoa Corporation Common Stock ', 26.0, -0.95, '-3.525%', 4640269608.0, 'United States', 2016.0, 4079808, 'Industrials', 'Aluminum']\n",
      "[2, 'AACG', 'ATA Creativity Global American Depositary Shares', 0.861, 0.001, '0.116%', 27226688.0, 'China', 2008.0, 3975, 'Real Estate', 'Other Consumer Services']\n",
      "[3, 'AACI', 'Armada Acquisition Corp. I Common Stock', 10.75, 0.025, '0.233%', 0.0, 'United States', 2021.0, 163, 'Finance', 'Blank Checks']\n",
      "[4, 'AACIW', 'Armada Acquisition Corp. I Warrant', 0.0596, 0.0, '0.00%', 0.0, 'United States', 2021.0, 14, 'Finance', 'Blank Checks']\n"
     ]
    }
   ],
   "source": [
    "for i in range(len(comp())):\n",
    "    data = list(comp.head().iloc[i])"
   ]
  },
  {
   "cell_type": "code",
   "execution_count": 57,
   "id": "503108a1",
   "metadata": {},
   "outputs": [],
   "source": [
    "comp['% Change'] = comp['% Change'].str.replace('%','').astype(float)"
   ]
  },
  {
   "cell_type": "code",
   "execution_count": 62,
   "id": "e7ee5a1b",
   "metadata": {},
   "outputs": [],
   "source": [
    "comp.drop('Unnamed: 0',axis=1,inplace=True)"
   ]
  },
  {
   "cell_type": "code",
   "execution_count": 64,
   "id": "79fdd33f",
   "metadata": {},
   "outputs": [
    {
     "data": {
      "text/plain": [
       "Symbol         object\n",
       "Name           object\n",
       "Last Sale     float64\n",
       "Net Change    float64\n",
       "% Change      float64\n",
       "Market Cap    float64\n",
       "Country        object\n",
       "IPO Year      float64\n",
       "Volume          int64\n",
       "Sector         object\n",
       "Industry       object\n",
       "dtype: object"
      ]
     },
     "execution_count": 64,
     "metadata": {},
     "output_type": "execute_result"
    }
   ],
   "source": [
    "comp.dtypes"
   ]
  },
  {
   "cell_type": "code",
   "execution_count": 89,
   "id": "ce0eade1",
   "metadata": {},
   "outputs": [],
   "source": [
    "comp.to_csv('companies.csv',index=False)"
   ]
  },
  {
   "cell_type": "code",
   "execution_count": 82,
   "id": "3de30f7e",
   "metadata": {},
   "outputs": [],
   "source": [
    "# mask = comp['Symbol'].isna()"
   ]
  },
  {
   "cell_type": "code",
   "execution_count": 85,
   "id": "73a59b9e",
   "metadata": {},
   "outputs": [],
   "source": [
    "# comp.loc[mask,['Symbol']]='NLLADS'"
   ]
  },
  {
   "cell_type": "code",
   "execution_count": 95,
   "id": "5a4f3bb3",
   "metadata": {},
   "outputs": [],
   "source": [
    "# comp.isna().sum()"
   ]
  },
  {
   "cell_type": "code",
   "execution_count": 99,
   "id": "9ec69249",
   "metadata": {},
   "outputs": [
    {
     "data": {
      "text/html": [
       "<div>\n",
       "<style scoped>\n",
       "    .dataframe tbody tr th:only-of-type {\n",
       "        vertical-align: middle;\n",
       "    }\n",
       "\n",
       "    .dataframe tbody tr th {\n",
       "        vertical-align: top;\n",
       "    }\n",
       "\n",
       "    .dataframe thead th {\n",
       "        text-align: right;\n",
       "    }\n",
       "</style>\n",
       "<table border=\"1\" class=\"dataframe\">\n",
       "  <thead>\n",
       "    <tr style=\"text-align: right;\">\n",
       "      <th></th>\n",
       "      <th>Symbol</th>\n",
       "      <th>Period Ending:</th>\n",
       "      <th>Total Revenue</th>\n",
       "      <th>Cost of Revenue</th>\n",
       "      <th>Gross Profit</th>\n",
       "      <th>Net Income</th>\n",
       "      <th>Net Income Applicable to Common Shareholders</th>\n",
       "      <th>Total Assets</th>\n",
       "      <th>Total Liabilities</th>\n",
       "      <th>Total Equity</th>\n",
       "    </tr>\n",
       "  </thead>\n",
       "  <tbody>\n",
       "    <tr>\n",
       "      <th>0</th>\n",
       "      <td>A</td>\n",
       "      <td>2022-10-31</td>\n",
       "      <td>6848000.0</td>\n",
       "      <td>3126000.0</td>\n",
       "      <td>3722000.0</td>\n",
       "      <td>1254000.0</td>\n",
       "      <td>1254000.0</td>\n",
       "      <td>10532000.0</td>\n",
       "      <td>5227000.0</td>\n",
       "      <td>5305000.0</td>\n",
       "    </tr>\n",
       "    <tr>\n",
       "      <th>1</th>\n",
       "      <td>A</td>\n",
       "      <td>2021-10-31</td>\n",
       "      <td>6319000.0</td>\n",
       "      <td>2912000.0</td>\n",
       "      <td>3407000.0</td>\n",
       "      <td>1210000.0</td>\n",
       "      <td>1210000.0</td>\n",
       "      <td>10705000.0</td>\n",
       "      <td>5316000.0</td>\n",
       "      <td>5389000.0</td>\n",
       "    </tr>\n",
       "    <tr>\n",
       "      <th>2</th>\n",
       "      <td>A</td>\n",
       "      <td>2020-10-31</td>\n",
       "      <td>5339000.0</td>\n",
       "      <td>2502000.0</td>\n",
       "      <td>2837000.0</td>\n",
       "      <td>719000.0</td>\n",
       "      <td>719000.0</td>\n",
       "      <td>9627000.0</td>\n",
       "      <td>4754000.0</td>\n",
       "      <td>4873000.0</td>\n",
       "    </tr>\n",
       "    <tr>\n",
       "      <th>3</th>\n",
       "      <td>A</td>\n",
       "      <td>2019-10-31</td>\n",
       "      <td>5163000.0</td>\n",
       "      <td>2358000.0</td>\n",
       "      <td>2805000.0</td>\n",
       "      <td>1071000.0</td>\n",
       "      <td>1071000.0</td>\n",
       "      <td>9452000.0</td>\n",
       "      <td>4704000.0</td>\n",
       "      <td>4748000.0</td>\n",
       "    </tr>\n",
       "    <tr>\n",
       "      <th>4</th>\n",
       "      <td>AAT</td>\n",
       "      <td>2022-12-31</td>\n",
       "      <td>422648.0</td>\n",
       "      <td>152433.0</td>\n",
       "      <td>270215.0</td>\n",
       "      <td>43506.0</td>\n",
       "      <td>43506.0</td>\n",
       "      <td>2987881.0</td>\n",
       "      <td>1766616.0</td>\n",
       "      <td>1221265.0</td>\n",
       "    </tr>\n",
       "  </tbody>\n",
       "</table>\n",
       "</div>"
      ],
      "text/plain": [
       "  Symbol Period Ending:  Total Revenue  Cost of Revenue  Gross Profit  \\\n",
       "0      A     2022-10-31      6848000.0        3126000.0     3722000.0   \n",
       "1      A     2021-10-31      6319000.0        2912000.0     3407000.0   \n",
       "2      A     2020-10-31      5339000.0        2502000.0     2837000.0   \n",
       "3      A     2019-10-31      5163000.0        2358000.0     2805000.0   \n",
       "4    AAT     2022-12-31       422648.0         152433.0      270215.0   \n",
       "\n",
       "   Net Income  Net Income Applicable to Common Shareholders  Total Assets  \\\n",
       "0   1254000.0                                     1254000.0    10532000.0   \n",
       "1   1210000.0                                     1210000.0    10705000.0   \n",
       "2    719000.0                                      719000.0     9627000.0   \n",
       "3   1071000.0                                     1071000.0     9452000.0   \n",
       "4     43506.0                                       43506.0     2987881.0   \n",
       "\n",
       "   Total Liabilities  Total Equity  \n",
       "0          5227000.0     5305000.0  \n",
       "1          5316000.0     5389000.0  \n",
       "2          4754000.0     4873000.0  \n",
       "3          4704000.0     4748000.0  \n",
       "4          1766616.0     1221265.0  "
      ]
     },
     "execution_count": 99,
     "metadata": {},
     "output_type": "execute_result"
    }
   ],
   "source": [
    "f_rec.head()"
   ]
  },
  {
   "cell_type": "code",
   "execution_count": 15,
   "id": "4f839e75",
   "metadata": {},
   "outputs": [
    {
     "data": {
      "text/plain": [
       "(21677, 10)"
      ]
     },
     "execution_count": 15,
     "metadata": {},
     "output_type": "execute_result"
    }
   ],
   "source": [
    "f_rec.shape"
   ]
  },
  {
   "cell_type": "code",
   "execution_count": 16,
   "id": "3e14a85f",
   "metadata": {},
   "outputs": [
    {
     "data": {
      "text/plain": [
       "(7396, 11)"
      ]
     },
     "execution_count": 16,
     "metadata": {},
     "output_type": "execute_result"
    }
   ],
   "source": [
    "comp.shape"
   ]
  },
  {
   "cell_type": "code",
   "execution_count": null,
   "id": "9d3e3c66",
   "metadata": {},
   "outputs": [],
   "source": []
  }
 ],
 "metadata": {
  "kernelspec": {
   "display_name": "Python 3 (ipykernel)",
   "language": "python",
   "name": "python3"
  },
  "language_info": {
   "codemirror_mode": {
    "name": "ipython",
    "version": 3
   },
   "file_extension": ".py",
   "mimetype": "text/x-python",
   "name": "python",
   "nbconvert_exporter": "python",
   "pygments_lexer": "ipython3",
   "version": "3.9.13"
  }
 },
 "nbformat": 4,
 "nbformat_minor": 5
}
