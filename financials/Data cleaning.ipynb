{
 "cells": [
  {
   "cell_type": "code",
   "execution_count": 1,
   "id": "700904ab",
   "metadata": {},
   "outputs": [],
   "source": [
    "import pandas as pd\n",
    "import numpy as np"
   ]
  },
  {
   "cell_type": "code",
   "execution_count": 13,
   "id": "d7558f5d",
   "metadata": {},
   "outputs": [],
   "source": [
    "df = pd.read_csv(\"financials.csv\")\n",
    "# df"
   ]
  },
  {
   "cell_type": "code",
   "execution_count": 14,
   "id": "7dd7aff5",
   "metadata": {},
   "outputs": [
    {
     "data": {
      "text/plain": [
       "(25888, 54)"
      ]
     },
     "execution_count": 14,
     "metadata": {},
     "output_type": "execute_result"
    }
   ],
   "source": [
    "df.shape"
   ]
  },
  {
   "cell_type": "code",
   "execution_count": 15,
   "id": "c02cb7d2",
   "metadata": {
    "collapsed": true
   },
   "outputs": [
    {
     "data": {
      "text/plain": [
       "Symbol                                                  object\n",
       "Period Ending:                                          object\n",
       "Total Revenue                                           object\n",
       "Cost of Revenue                                         object\n",
       "Gross Profit                                            object\n",
       "Operating Expenses                                     float64\n",
       "Research and Development                                object\n",
       "Sales, General and Admin.                               object\n",
       "Non-Recurring Items                                     object\n",
       "Other Operating Items                                   object\n",
       "Operating Income                                        object\n",
       "Add'l income/expense items                              object\n",
       "Earnings Before Interest and Tax                        object\n",
       "Interest Expense                                        object\n",
       "Earnings Before Tax                                     object\n",
       "Income Tax                                              object\n",
       "Minority Interest                                       object\n",
       "Equity Earnings/Loss Unconsolidated Subsidiary          object\n",
       "Net Income-Cont. Operations                             object\n",
       "Net Income                                              object\n",
       "Net Income Applicable to Common Shareholders            object\n",
       "Current Assets                                         float64\n",
       "Cash and Cash Equivalents                               object\n",
       "Short-Term Investments                                  object\n",
       "Net Receivables                                         object\n",
       "Inventory                                               object\n",
       "Other Current Assets                                    object\n",
       "Total Current Assets                                    object\n",
       "Long-Term Assets                                       float64\n",
       "Long-Term Investments                                   object\n",
       "Fixed Assets                                            object\n",
       "Goodwill                                                object\n",
       "Intangible Assets                                       object\n",
       "Other Assets                                            object\n",
       "Deferred Asset Charges                                  object\n",
       "Total Assets                                            object\n",
       "Current Liabilities                                    float64\n",
       "Accounts Payable                                        object\n",
       "Short-Term Debt / Current Portion of Long-Term Debt     object\n",
       "Other Current Liabilities                               object\n",
       "Total Current Liabilities                               object\n",
       "Long-Term Debt                                          object\n",
       "Other Liabilities                                       object\n",
       "Deferred Liability Charges                              object\n",
       "Misc. Stocks                                            object\n",
       "Total Liabilities                                       object\n",
       "Stock Holders Equity                                   float64\n",
       "Common Stocks                                           object\n",
       "Capital Surplus                                         object\n",
       "Retained Earnings                                       object\n",
       "Treasury Stock                                          object\n",
       "Other Equity                                            object\n",
       "Total Equity                                            object\n",
       "Total Liabilities & Equity                              object\n",
       "dtype: object"
      ]
     },
     "execution_count": 15,
     "metadata": {},
     "output_type": "execute_result"
    }
   ],
   "source": [
    "df.dtypes"
   ]
  },
  {
   "cell_type": "code",
   "execution_count": 16,
   "id": "9c38ccea",
   "metadata": {
    "collapsed": true
   },
   "outputs": [
    {
     "data": {
      "text/plain": [
       "Symbol                                                     0\n",
       "Period Ending:                                          2042\n",
       "Total Revenue                                           2042\n",
       "Cost of Revenue                                         2042\n",
       "Gross Profit                                            2042\n",
       "Operating Expenses                                     25888\n",
       "Research and Development                                2042\n",
       "Sales, General and Admin.                               2042\n",
       "Non-Recurring Items                                     2042\n",
       "Other Operating Items                                   2042\n",
       "Operating Income                                        2042\n",
       "Add'l income/expense items                              2042\n",
       "Earnings Before Interest and Tax                        2042\n",
       "Interest Expense                                        2042\n",
       "Earnings Before Tax                                     2042\n",
       "Income Tax                                              2042\n",
       "Minority Interest                                       2042\n",
       "Equity Earnings/Loss Unconsolidated Subsidiary          2042\n",
       "Net Income-Cont. Operations                             2042\n",
       "Net Income                                              2042\n",
       "Net Income Applicable to Common Shareholders            2042\n",
       "Current Assets                                         25888\n",
       "Cash and Cash Equivalents                               2042\n",
       "Short-Term Investments                                  2042\n",
       "Net Receivables                                         2042\n",
       "Inventory                                               2042\n",
       "Other Current Assets                                    2042\n",
       "Total Current Assets                                    2042\n",
       "Long-Term Assets                                       25888\n",
       "Long-Term Investments                                   2042\n",
       "Fixed Assets                                            2042\n",
       "Goodwill                                                2042\n",
       "Intangible Assets                                       2042\n",
       "Other Assets                                            2042\n",
       "Deferred Asset Charges                                  2042\n",
       "Total Assets                                            2042\n",
       "Current Liabilities                                    25888\n",
       "Accounts Payable                                        2042\n",
       "Short-Term Debt / Current Portion of Long-Term Debt     2042\n",
       "Other Current Liabilities                               2042\n",
       "Total Current Liabilities                               2042\n",
       "Long-Term Debt                                          2042\n",
       "Other Liabilities                                       2042\n",
       "Deferred Liability Charges                              2042\n",
       "Misc. Stocks                                            2042\n",
       "Total Liabilities                                       2042\n",
       "Stock Holders Equity                                   25888\n",
       "Common Stocks                                           2042\n",
       "Capital Surplus                                         2042\n",
       "Retained Earnings                                       2042\n",
       "Treasury Stock                                          2042\n",
       "Other Equity                                            2042\n",
       "Total Equity                                            2042\n",
       "Total Liabilities & Equity                              2042\n",
       "dtype: int64"
      ]
     },
     "execution_count": 16,
     "metadata": {},
     "output_type": "execute_result"
    }
   ],
   "source": [
    "df.isna().sum()"
   ]
  },
  {
   "cell_type": "code",
   "execution_count": 20,
   "id": "2b4cb471",
   "metadata": {},
   "outputs": [],
   "source": [
    "cols_to_clean= ['Total Revenue', 'Cost of Revenue', 'Gross Profit',\n",
    "       'Operating Expenses', 'Research and Development',\n",
    "       'Sales, General and Admin.', 'Non-Recurring Items',\n",
    "       'Other Operating Items', 'Operating Income',\n",
    "       \"Add'l income/expense items\", 'Earnings Before Interest and Tax',\n",
    "       'Interest Expense', 'Earnings Before Tax', 'Income Tax',\n",
    "       'Minority Interest', 'Equity Earnings/Loss Unconsolidated Subsidiary',\n",
    "       'Net Income-Cont. Operations', 'Net Income',\n",
    "       'Net Income Applicable to Common Shareholders', 'Current Assets',\n",
    "       'Cash and Cash Equivalents', 'Short-Term Investments',\n",
    "       'Net Receivables', 'Inventory', 'Other Current Assets',\n",
    "       'Total Current Assets', 'Long-Term Assets', 'Long-Term Investments',\n",
    "       'Fixed Assets', 'Goodwill', 'Intangible Assets', 'Other Assets',\n",
    "       'Deferred Asset Charges', 'Total Assets', 'Current Liabilities',\n",
    "       'Accounts Payable',\n",
    "       'Short-Term Debt / Current Portion of Long-Term Debt',\n",
    "       'Other Current Liabilities', 'Total Current Liabilities',\n",
    "       'Long-Term Debt', 'Other Liabilities', 'Deferred Liability Charges',\n",
    "       'Misc. Stocks', 'Total Liabilities', 'Stock Holders Equity',\n",
    "       'Common Stocks', 'Capital Surplus', 'Retained Earnings',\n",
    "       'Treasury Stock', 'Other Equity', 'Total Equity',\n",
    "       'Total Liabilities & Equity']"
   ]
  },
  {
   "cell_type": "code",
   "execution_count": 35,
   "id": "25307152",
   "metadata": {},
   "outputs": [],
   "source": [
    "for col in cols_to_clean:\n",
    "    df[col] = df[col].replace({'\\$': '', '%': '','--':'',',':''}, regex=True)\n",
    "    df[col] = df[col].replace({'':np.nan}, regex=True).astype(float)"
   ]
  },
  {
   "cell_type": "code",
   "execution_count": 36,
   "id": "f8a2b639",
   "metadata": {},
   "outputs": [
    {
     "data": {
      "text/plain": [
       "Symbol                                                  object\n",
       "Period Ending:                                          object\n",
       "Total Revenue                                          float64\n",
       "Cost of Revenue                                        float64\n",
       "Gross Profit                                           float64\n",
       "Operating Expenses                                     float64\n",
       "Research and Development                               float64\n",
       "Sales, General and Admin.                              float64\n",
       "Non-Recurring Items                                    float64\n",
       "Other Operating Items                                  float64\n",
       "Operating Income                                       float64\n",
       "Add'l income/expense items                             float64\n",
       "Earnings Before Interest and Tax                       float64\n",
       "Interest Expense                                       float64\n",
       "Earnings Before Tax                                    float64\n",
       "Income Tax                                             float64\n",
       "Minority Interest                                      float64\n",
       "Equity Earnings/Loss Unconsolidated Subsidiary         float64\n",
       "Net Income-Cont. Operations                            float64\n",
       "Net Income                                             float64\n",
       "Net Income Applicable to Common Shareholders           float64\n",
       "Current Assets                                         float64\n",
       "Cash and Cash Equivalents                              float64\n",
       "Short-Term Investments                                 float64\n",
       "Net Receivables                                        float64\n",
       "Inventory                                              float64\n",
       "Other Current Assets                                   float64\n",
       "Total Current Assets                                   float64\n",
       "Long-Term Assets                                       float64\n",
       "Long-Term Investments                                  float64\n",
       "Fixed Assets                                           float64\n",
       "Goodwill                                               float64\n",
       "Intangible Assets                                      float64\n",
       "Other Assets                                           float64\n",
       "Deferred Asset Charges                                 float64\n",
       "Total Assets                                           float64\n",
       "Current Liabilities                                    float64\n",
       "Accounts Payable                                       float64\n",
       "Short-Term Debt / Current Portion of Long-Term Debt    float64\n",
       "Other Current Liabilities                              float64\n",
       "Total Current Liabilities                              float64\n",
       "Long-Term Debt                                         float64\n",
       "Other Liabilities                                      float64\n",
       "Deferred Liability Charges                             float64\n",
       "Misc. Stocks                                           float64\n",
       "Total Liabilities                                      float64\n",
       "Stock Holders Equity                                   float64\n",
       "Common Stocks                                          float64\n",
       "Capital Surplus                                        float64\n",
       "Retained Earnings                                      float64\n",
       "Treasury Stock                                         float64\n",
       "Other Equity                                           float64\n",
       "Total Equity                                           float64\n",
       "Total Liabilities & Equity                             float64\n",
       "dtype: object"
      ]
     },
     "execution_count": 36,
     "metadata": {},
     "output_type": "execute_result"
    }
   ],
   "source": [
    "df.dtypes"
   ]
  },
  {
   "cell_type": "code",
   "execution_count": 37,
   "id": "7ecafcca",
   "metadata": {},
   "outputs": [],
   "source": [
    "df.drop_duplicates(inplace=True)"
   ]
  },
  {
   "cell_type": "code",
   "execution_count": 38,
   "id": "355466f6",
   "metadata": {
    "scrolled": true
   },
   "outputs": [
    {
     "data": {
      "text/plain": [
       "(22646, 54)"
      ]
     },
     "execution_count": 38,
     "metadata": {},
     "output_type": "execute_result"
    }
   ],
   "source": [
    "df.shape"
   ]
  },
  {
   "cell_type": "code",
   "execution_count": 52,
   "id": "b7342540",
   "metadata": {},
   "outputs": [],
   "source": [
    "df.dropna(subset=['Period Ending:'],inplace=True)"
   ]
  },
  {
   "cell_type": "code",
   "execution_count": 40,
   "id": "f5af61b3",
   "metadata": {},
   "outputs": [
    {
     "data": {
      "text/plain": [
       "(22646, 54)"
      ]
     },
     "execution_count": 40,
     "metadata": {},
     "output_type": "execute_result"
    }
   ],
   "source": [
    "df.shape"
   ]
  },
  {
   "cell_type": "code",
   "execution_count": 53,
   "id": "e80698bd",
   "metadata": {
    "collapsed": true
   },
   "outputs": [
    {
     "data": {
      "text/plain": [
       "Symbol                                                     0\n",
       "Period Ending:                                             0\n",
       "Total Revenue                                           2314\n",
       "Cost of Revenue                                         4625\n",
       "Gross Profit                                            3825\n",
       "Operating Expenses                                     21701\n",
       "Research and Development                               13155\n",
       "Sales, General and Admin.                                533\n",
       "Non-Recurring Items                                    14553\n",
       "Other Operating Items                                  12862\n",
       "Operating Income                                        1585\n",
       "Add'l income/expense items                              3653\n",
       "Earnings Before Interest and Tax                           9\n",
       "Interest Expense                                        6000\n",
       "Earnings Before Tax                                       10\n",
       "Income Tax                                              5381\n",
       "Minority Interest                                      19305\n",
       "Equity Earnings/Loss Unconsolidated Subsidiary         16426\n",
       "Net Income-Cont. Operations                               26\n",
       "Net Income                                                32\n",
       "Net Income Applicable to Common Shareholders              40\n",
       "Current Assets                                         21701\n",
       "Cash and Cash Equivalents                                358\n",
       "Short-Term Investments                                 16292\n",
       "Net Receivables                                         2899\n",
       "Inventory                                              11574\n",
       "Other Current Assets                                    5315\n",
       "Total Current Assets                                    4612\n",
       "Long-Term Assets                                       21701\n",
       "Long-Term Investments                                  10973\n",
       "Fixed Assets                                            2862\n",
       "Goodwill                                               11183\n",
       "Intangible Assets                                       8536\n",
       "Other Assets                                            2574\n",
       "Deferred Asset Charges                                 13675\n",
       "Total Assets                                               7\n",
       "Current Liabilities                                    21701\n",
       "Accounts Payable                                         689\n",
       "Short-Term Debt / Current Portion of Long-Term Debt     9023\n",
       "Other Current Liabilities                               6067\n",
       "Total Current Liabilities                               4603\n",
       "Long-Term Debt                                          7914\n",
       "Other Liabilities                                       3325\n",
       "Deferred Liability Charges                             10811\n",
       "Misc. Stocks                                           15499\n",
       "Total Liabilities                                         18\n",
       "Stock Holders Equity                                   21701\n",
       "Common Stocks                                           2486\n",
       "Capital Surplus                                          785\n",
       "Retained Earnings                                      15104\n",
       "Treasury Stock                                          3286\n",
       "Other Equity                                            6319\n",
       "Total Equity                                             189\n",
       "Total Liabilities & Equity                                 7\n",
       "dtype: int64"
      ]
     },
     "execution_count": 53,
     "metadata": {},
     "output_type": "execute_result"
    }
   ],
   "source": [
    "df.isna().sum()"
   ]
  },
  {
   "cell_type": "code",
   "execution_count": 54,
   "id": "9a43dd7c",
   "metadata": {},
   "outputs": [],
   "source": [
    "mask = (df['Total Revenue']==df['Gross Profit']) & (df['Cost of Revenue'].isna())"
   ]
  },
  {
   "cell_type": "code",
   "execution_count": 55,
   "id": "fb4b8233",
   "metadata": {},
   "outputs": [],
   "source": [
    "df.loc[mask, 'Cost of Revenue'] = 0"
   ]
  },
  {
   "cell_type": "code",
   "execution_count": 56,
   "id": "caa2c14d",
   "metadata": {},
   "outputs": [],
   "source": [
    "mask = (-df['Cost of Revenue']==df['Gross Profit']) & (df['Total Revenue'].isna())"
   ]
  },
  {
   "cell_type": "code",
   "execution_count": 57,
   "id": "1eb7e2da",
   "metadata": {},
   "outputs": [],
   "source": [
    "df.loc[mask, 'Total Revenue'] = 0"
   ]
  },
  {
   "cell_type": "code",
   "execution_count": 58,
   "id": "ecc314a2",
   "metadata": {},
   "outputs": [],
   "source": [
    "mask = (df['Gross Profit'].isna())&(~df['Total Revenue'].isna())&(~df['Cost of Revenue'].isna())"
   ]
  },
  {
   "cell_type": "code",
   "execution_count": 59,
   "id": "afaa127b",
   "metadata": {},
   "outputs": [],
   "source": [
    "df.loc[mask, 'Gross Profit'] = df.loc[mask, 'Total Revenue']-df.loc[mask, 'Cost of Revenue']"
   ]
  },
  {
   "cell_type": "code",
   "execution_count": 60,
   "id": "71064f91",
   "metadata": {},
   "outputs": [],
   "source": [
    "mask=(df['Net Income'].isna())&(df['Net Income Applicable to Common Shareholders'].isna())&(~df['Net Income-Cont. Operations'].isna())"
   ]
  },
  {
   "cell_type": "code",
   "execution_count": 61,
   "id": "9cc3806f",
   "metadata": {},
   "outputs": [],
   "source": [
    "df.loc[mask,'Net Income']=df.loc[mask,'Net Income-Cont. Operations']"
   ]
  },
  {
   "cell_type": "code",
   "execution_count": 62,
   "id": "06eaf0d4",
   "metadata": {},
   "outputs": [],
   "source": [
    "df.loc[mask,'Net Income Applicable to Common Shareholders']=df.loc[mask,'Net Income-Cont. Operations']"
   ]
  },
  {
   "cell_type": "code",
   "execution_count": 63,
   "id": "f32dd466",
   "metadata": {},
   "outputs": [],
   "source": [
    "mask = (df['Net Income Applicable to Common Shareholders'].isna())&(~df['Net Income'].isna())"
   ]
  },
  {
   "cell_type": "code",
   "execution_count": 64,
   "id": "e18d0916",
   "metadata": {},
   "outputs": [],
   "source": [
    "df.loc[mask,'Net Income Applicable to Common Shareholders']=df.loc[mask,'Net Income']"
   ]
  },
  {
   "cell_type": "code",
   "execution_count": 70,
   "id": "96e4ebbf",
   "metadata": {},
   "outputs": [
    {
     "data": {
      "text/plain": [
       "Symbol                                                     0\n",
       "Period Ending:                                             0\n",
       "Total Revenue                                           2249\n",
       "Cost of Revenue                                         2467\n",
       "Gross Profit                                            2466\n",
       "Operating Expenses                                     21701\n",
       "Research and Development                               13155\n",
       "Sales, General and Admin.                                533\n",
       "Non-Recurring Items                                    14553\n",
       "Other Operating Items                                  12862\n",
       "Operating Income                                        1585\n",
       "Add'l income/expense items                              3653\n",
       "Earnings Before Interest and Tax                           9\n",
       "Interest Expense                                        6000\n",
       "Earnings Before Tax                                       10\n",
       "Income Tax                                              5381\n",
       "Minority Interest                                      19305\n",
       "Equity Earnings/Loss Unconsolidated Subsidiary         16426\n",
       "Net Income-Cont. Operations                               26\n",
       "Net Income                                                24\n",
       "Net Income Applicable to Common Shareholders              23\n",
       "Current Assets                                         21701\n",
       "Cash and Cash Equivalents                                358\n",
       "Short-Term Investments                                 16292\n",
       "Net Receivables                                         2899\n",
       "Inventory                                              11574\n",
       "Other Current Assets                                    5315\n",
       "Total Current Assets                                    4612\n",
       "Long-Term Assets                                       21701\n",
       "Long-Term Investments                                  10973\n",
       "Fixed Assets                                            2862\n",
       "Goodwill                                               11183\n",
       "Intangible Assets                                       8536\n",
       "Other Assets                                            2574\n",
       "Deferred Asset Charges                                 13675\n",
       "Total Assets                                               0\n",
       "Current Liabilities                                    21701\n",
       "Accounts Payable                                         689\n",
       "Short-Term Debt / Current Portion of Long-Term Debt     9023\n",
       "Other Current Liabilities                               6067\n",
       "Total Current Liabilities                               4603\n",
       "Long-Term Debt                                          7914\n",
       "Other Liabilities                                       3325\n",
       "Deferred Liability Charges                             10811\n",
       "Misc. Stocks                                           15499\n",
       "Total Liabilities                                         18\n",
       "Stock Holders Equity                                   21701\n",
       "Common Stocks                                           2486\n",
       "Capital Surplus                                          785\n",
       "Retained Earnings                                      15104\n",
       "Treasury Stock                                          3286\n",
       "Other Equity                                            6319\n",
       "Total Equity                                             189\n",
       "Total Liabilities & Equity                                 7\n",
       "dtype: int64"
      ]
     },
     "execution_count": 70,
     "metadata": {},
     "output_type": "execute_result"
    }
   ],
   "source": [
    "df.isna().sum()"
   ]
  },
  {
   "cell_type": "code",
   "execution_count": 69,
   "id": "b64816ef",
   "metadata": {},
   "outputs": [],
   "source": [
    "mask = df['Total Assets'].isna()\n",
    "df.loc[mask,['Total Assets']]=0"
   ]
  },
  {
   "cell_type": "code",
   "execution_count": 72,
   "id": "9287a7df",
   "metadata": {},
   "outputs": [],
   "source": [
    "mask = df['Total Liabilities'].isna()\n",
    "df.loc[mask,['Total Liabilities']]=0"
   ]
  },
  {
   "cell_type": "code",
   "execution_count": 74,
   "id": "8689fce7",
   "metadata": {},
   "outputs": [],
   "source": [
    "mask = df['Total Equity'].isna()\n",
    "df.loc[mask,'Total Equity']=df.loc[mask,'Total Assets'] - df.loc[mask,'Total Liabilities']"
   ]
  },
  {
   "cell_type": "code",
   "execution_count": 77,
   "id": "d5486e5b",
   "metadata": {},
   "outputs": [],
   "source": [
    "selected_cols = ['Symbol','Period Ending:','Total Revenue', 'Cost of Revenue', 'Gross Profit','Net Income'\n",
    "                 ,'Net Income Applicable to Common Shareholders','Total Assets','Total Liabilities','Total Equity'\n",
    "                ]"
   ]
  },
  {
   "cell_type": "code",
   "execution_count": 78,
   "id": "1a617f58",
   "metadata": {},
   "outputs": [
    {
     "data": {
      "text/plain": [
       "Symbol                                             0\n",
       "Period Ending:                                     0\n",
       "Total Revenue                                   2249\n",
       "Cost of Revenue                                 2467\n",
       "Gross Profit                                    2466\n",
       "Earnings Before Interest and Tax                   9\n",
       "Net Income                                        24\n",
       "Net Income Applicable to Common Shareholders      23\n",
       "Total Assets                                       0\n",
       "Total Liabilities                                  0\n",
       "Total Equity                                       0\n",
       "dtype: int64"
      ]
     },
     "execution_count": 78,
     "metadata": {},
     "output_type": "execute_result"
    }
   ],
   "source": [
    "df[selected_cols].isna().sum()"
   ]
  },
  {
   "cell_type": "code",
   "execution_count": 82,
   "id": "6c2aef9a",
   "metadata": {},
   "outputs": [
    {
     "data": {
      "text/html": [
       "<div>\n",
       "<style scoped>\n",
       "    .dataframe tbody tr th:only-of-type {\n",
       "        vertical-align: middle;\n",
       "    }\n",
       "\n",
       "    .dataframe tbody tr th {\n",
       "        vertical-align: top;\n",
       "    }\n",
       "\n",
       "    .dataframe thead th {\n",
       "        text-align: right;\n",
       "    }\n",
       "</style>\n",
       "<table border=\"1\" class=\"dataframe\">\n",
       "  <thead>\n",
       "    <tr style=\"text-align: right;\">\n",
       "      <th></th>\n",
       "      <th>Net Income</th>\n",
       "      <th>Earnings Before Interest and Tax</th>\n",
       "      <th>Net Income Applicable to Common Shareholders</th>\n",
       "    </tr>\n",
       "  </thead>\n",
       "  <tbody>\n",
       "    <tr>\n",
       "      <th>1615</th>\n",
       "      <td>NaN</td>\n",
       "      <td>276.0</td>\n",
       "      <td>-57537.0</td>\n",
       "    </tr>\n",
       "    <tr>\n",
       "      <th>4106</th>\n",
       "      <td>NaN</td>\n",
       "      <td>-122314.0</td>\n",
       "      <td>NaN</td>\n",
       "    </tr>\n",
       "    <tr>\n",
       "      <th>4407</th>\n",
       "      <td>NaN</td>\n",
       "      <td>158951.0</td>\n",
       "      <td>NaN</td>\n",
       "    </tr>\n",
       "    <tr>\n",
       "      <th>6447</th>\n",
       "      <td>NaN</td>\n",
       "      <td>1176209.0</td>\n",
       "      <td>NaN</td>\n",
       "    </tr>\n",
       "    <tr>\n",
       "      <th>6910</th>\n",
       "      <td>NaN</td>\n",
       "      <td>-16544.0</td>\n",
       "      <td>NaN</td>\n",
       "    </tr>\n",
       "    <tr>\n",
       "      <th>9754</th>\n",
       "      <td>NaN</td>\n",
       "      <td>-24663.0</td>\n",
       "      <td>NaN</td>\n",
       "    </tr>\n",
       "    <tr>\n",
       "      <th>9755</th>\n",
       "      <td>NaN</td>\n",
       "      <td>-20338.0</td>\n",
       "      <td>NaN</td>\n",
       "    </tr>\n",
       "    <tr>\n",
       "      <th>11715</th>\n",
       "      <td>NaN</td>\n",
       "      <td>24841.0</td>\n",
       "      <td>NaN</td>\n",
       "    </tr>\n",
       "    <tr>\n",
       "      <th>12550</th>\n",
       "      <td>NaN</td>\n",
       "      <td>2146801.0</td>\n",
       "      <td>NaN</td>\n",
       "    </tr>\n",
       "    <tr>\n",
       "      <th>12551</th>\n",
       "      <td>NaN</td>\n",
       "      <td>163015.0</td>\n",
       "      <td>NaN</td>\n",
       "    </tr>\n",
       "    <tr>\n",
       "      <th>15789</th>\n",
       "      <td>NaN</td>\n",
       "      <td>NaN</td>\n",
       "      <td>NaN</td>\n",
       "    </tr>\n",
       "    <tr>\n",
       "      <th>16243</th>\n",
       "      <td>NaN</td>\n",
       "      <td>87996.0</td>\n",
       "      <td>NaN</td>\n",
       "    </tr>\n",
       "    <tr>\n",
       "      <th>16265</th>\n",
       "      <td>NaN</td>\n",
       "      <td>-600000.0</td>\n",
       "      <td>NaN</td>\n",
       "    </tr>\n",
       "    <tr>\n",
       "      <th>16266</th>\n",
       "      <td>NaN</td>\n",
       "      <td>-732000.0</td>\n",
       "      <td>NaN</td>\n",
       "    </tr>\n",
       "    <tr>\n",
       "      <th>16965</th>\n",
       "      <td>NaN</td>\n",
       "      <td>-158739.0</td>\n",
       "      <td>NaN</td>\n",
       "    </tr>\n",
       "    <tr>\n",
       "      <th>16966</th>\n",
       "      <td>NaN</td>\n",
       "      <td>-40161.0</td>\n",
       "      <td>NaN</td>\n",
       "    </tr>\n",
       "    <tr>\n",
       "      <th>17550</th>\n",
       "      <td>NaN</td>\n",
       "      <td>-3219.0</td>\n",
       "      <td>NaN</td>\n",
       "    </tr>\n",
       "    <tr>\n",
       "      <th>17622</th>\n",
       "      <td>NaN</td>\n",
       "      <td>-46797.0</td>\n",
       "      <td>NaN</td>\n",
       "    </tr>\n",
       "    <tr>\n",
       "      <th>18462</th>\n",
       "      <td>NaN</td>\n",
       "      <td>-72131.0</td>\n",
       "      <td>NaN</td>\n",
       "    </tr>\n",
       "    <tr>\n",
       "      <th>18774</th>\n",
       "      <td>NaN</td>\n",
       "      <td>-20897.0</td>\n",
       "      <td>NaN</td>\n",
       "    </tr>\n",
       "    <tr>\n",
       "      <th>21858</th>\n",
       "      <td>NaN</td>\n",
       "      <td>NaN</td>\n",
       "      <td>NaN</td>\n",
       "    </tr>\n",
       "    <tr>\n",
       "      <th>22162</th>\n",
       "      <td>NaN</td>\n",
       "      <td>10637.0</td>\n",
       "      <td>NaN</td>\n",
       "    </tr>\n",
       "    <tr>\n",
       "      <th>22263</th>\n",
       "      <td>NaN</td>\n",
       "      <td>162500.0</td>\n",
       "      <td>NaN</td>\n",
       "    </tr>\n",
       "    <tr>\n",
       "      <th>24129</th>\n",
       "      <td>NaN</td>\n",
       "      <td>NaN</td>\n",
       "      <td>NaN</td>\n",
       "    </tr>\n",
       "  </tbody>\n",
       "</table>\n",
       "</div>"
      ],
      "text/plain": [
       "       Net Income  Earnings Before Interest and Tax  \\\n",
       "1615          NaN                             276.0   \n",
       "4106          NaN                         -122314.0   \n",
       "4407          NaN                          158951.0   \n",
       "6447          NaN                         1176209.0   \n",
       "6910          NaN                          -16544.0   \n",
       "9754          NaN                          -24663.0   \n",
       "9755          NaN                          -20338.0   \n",
       "11715         NaN                           24841.0   \n",
       "12550         NaN                         2146801.0   \n",
       "12551         NaN                          163015.0   \n",
       "15789         NaN                               NaN   \n",
       "16243         NaN                           87996.0   \n",
       "16265         NaN                         -600000.0   \n",
       "16266         NaN                         -732000.0   \n",
       "16965         NaN                         -158739.0   \n",
       "16966         NaN                          -40161.0   \n",
       "17550         NaN                           -3219.0   \n",
       "17622         NaN                          -46797.0   \n",
       "18462         NaN                          -72131.0   \n",
       "18774         NaN                          -20897.0   \n",
       "21858         NaN                               NaN   \n",
       "22162         NaN                           10637.0   \n",
       "22263         NaN                          162500.0   \n",
       "24129         NaN                               NaN   \n",
       "\n",
       "       Net Income Applicable to Common Shareholders  \n",
       "1615                                       -57537.0  \n",
       "4106                                            NaN  \n",
       "4407                                            NaN  \n",
       "6447                                            NaN  \n",
       "6910                                            NaN  \n",
       "9754                                            NaN  \n",
       "9755                                            NaN  \n",
       "11715                                           NaN  \n",
       "12550                                           NaN  \n",
       "12551                                           NaN  \n",
       "15789                                           NaN  \n",
       "16243                                           NaN  \n",
       "16265                                           NaN  \n",
       "16266                                           NaN  \n",
       "16965                                           NaN  \n",
       "16966                                           NaN  \n",
       "17550                                           NaN  \n",
       "17622                                           NaN  \n",
       "18462                                           NaN  \n",
       "18774                                           NaN  \n",
       "21858                                           NaN  \n",
       "22162                                           NaN  \n",
       "22263                                           NaN  \n",
       "24129                                           NaN  "
      ]
     },
     "execution_count": 82,
     "metadata": {},
     "output_type": "execute_result"
    }
   ],
   "source": [
    "df[df['Net Income'].isna()][['Net Income','Earnings Before Interest and Tax','Net Income Applicable to Common Shareholders']]"
   ]
  },
  {
   "cell_type": "code",
   "execution_count": 83,
   "id": "1f6c4879",
   "metadata": {},
   "outputs": [],
   "source": [
    "df.dropna(subset='Net Income',inplace=True)"
   ]
  },
  {
   "cell_type": "code",
   "execution_count": 85,
   "id": "844b58b6",
   "metadata": {},
   "outputs": [
    {
     "data": {
      "text/plain": [
       "Symbol                                             0\n",
       "Period Ending:                                     0\n",
       "Total Revenue                                   2246\n",
       "Cost of Revenue                                 2462\n",
       "Gross Profit                                    2461\n",
       "Earnings Before Interest and Tax                   6\n",
       "Net Income                                         0\n",
       "Net Income Applicable to Common Shareholders       0\n",
       "Total Assets                                       0\n",
       "Total Liabilities                                  0\n",
       "Total Equity                                       0\n",
       "dtype: int64"
      ]
     },
     "execution_count": 85,
     "metadata": {},
     "output_type": "execute_result"
    }
   ],
   "source": [
    "df[selected_cols].isna().sum()"
   ]
  },
  {
   "cell_type": "code",
   "execution_count": 88,
   "id": "65edbfbe",
   "metadata": {
    "scrolled": false
   },
   "outputs": [
    {
     "data": {
      "text/plain": [
       "Symbol                                                 21677\n",
       "Period Ending:                                         21677\n",
       "Total Revenue                                          19431\n",
       "Cost of Revenue                                        19215\n",
       "Gross Profit                                           19216\n",
       "Operating Expenses                                         0\n",
       "Research and Development                                8541\n",
       "Sales, General and Admin.                              21147\n",
       "Non-Recurring Items                                     7144\n",
       "Other Operating Items                                   8827\n",
       "Operating Income                                       20097\n",
       "Add'l income/expense items                             18032\n",
       "Earnings Before Interest and Tax                       21671\n",
       "Interest Expense                                       15686\n",
       "Earnings Before Tax                                    21670\n",
       "Income Tax                                             16305\n",
       "Minority Interest                                       2387\n",
       "Equity Earnings/Loss Unconsolidated Subsidiary          5260\n",
       "Net Income-Cont. Operations                            21675\n",
       "Net Income                                             21677\n",
       "Net Income Applicable to Common Shareholders           21677\n",
       "Current Assets                                             0\n",
       "Cash and Cash Equivalents                              21320\n",
       "Short-Term Investments                                  5408\n",
       "Net Receivables                                        18783\n",
       "Inventory                                              10119\n",
       "Other Current Assets                                   16369\n",
       "Total Current Assets                                   17070\n",
       "Long-Term Assets                                           0\n",
       "Long-Term Investments                                  10721\n",
       "Fixed Assets                                           18821\n",
       "Goodwill                                               10505\n",
       "Intangible Assets                                      13149\n",
       "Other Assets                                           19110\n",
       "Deferred Asset Charges                                  8020\n",
       "Total Assets                                           21677\n",
       "Current Liabilities                                        0\n",
       "Accounts Payable                                       20988\n",
       "Short-Term Debt / Current Portion of Long-Term Debt    12665\n",
       "Other Current Liabilities                              15621\n",
       "Total Current Liabilities                              17078\n",
       "Long-Term Debt                                         13774\n",
       "Other Liabilities                                      18359\n",
       "Deferred Liability Charges                             10881\n",
       "Misc. Stocks                                            6195\n",
       "Total Liabilities                                      21677\n",
       "Stock Holders Equity                                       0\n",
       "Common Stocks                                          19205\n",
       "Capital Surplus                                        20903\n",
       "Retained Earnings                                       6597\n",
       "Treasury Stock                                         18406\n",
       "Other Equity                                           15367\n",
       "Total Equity                                           21677\n",
       "Total Liabilities & Equity                             21670\n",
       "dtype: int64"
      ]
     },
     "execution_count": 88,
     "metadata": {},
     "output_type": "execute_result"
    }
   ],
   "source": []
  },
  {
   "cell_type": "code",
   "execution_count": 93,
   "id": "57945ed9",
   "metadata": {},
   "outputs": [],
   "source": [
    "selected_cols = ['Symbol','Period Ending:','Total Revenue', 'Cost of Revenue', 'Gross Profit','Net Income'\n",
    "                 ,'Net Income Applicable to Common Shareholders','Total Assets','Total Liabilities','Total Equity'\n",
    "                ]"
   ]
  },
  {
   "cell_type": "code",
   "execution_count": 109,
   "id": "bcd8ba30",
   "metadata": {},
   "outputs": [
    {
     "data": {
      "text/plain": [
       "Symbol                                                         object\n",
       "Period Ending:                                         datetime64[ns]\n",
       "Total Revenue                                                 float64\n",
       "Cost of Revenue                                               float64\n",
       "Gross Profit                                                  float64\n",
       "Operating Expenses                                            float64\n",
       "Research and Development                                      float64\n",
       "Sales, General and Admin.                                     float64\n",
       "Non-Recurring Items                                           float64\n",
       "Other Operating Items                                         float64\n",
       "Operating Income                                              float64\n",
       "Add'l income/expense items                                    float64\n",
       "Earnings Before Interest and Tax                              float64\n",
       "Interest Expense                                              float64\n",
       "Earnings Before Tax                                           float64\n",
       "Income Tax                                                    float64\n",
       "Minority Interest                                             float64\n",
       "Equity Earnings/Loss Unconsolidated Subsidiary                float64\n",
       "Net Income-Cont. Operations                                   float64\n",
       "Net Income                                                    float64\n",
       "Net Income Applicable to Common Shareholders                  float64\n",
       "Current Assets                                                float64\n",
       "Cash and Cash Equivalents                                     float64\n",
       "Short-Term Investments                                        float64\n",
       "Net Receivables                                               float64\n",
       "Inventory                                                     float64\n",
       "Other Current Assets                                          float64\n",
       "Total Current Assets                                          float64\n",
       "Long-Term Assets                                              float64\n",
       "Long-Term Investments                                         float64\n",
       "Fixed Assets                                                  float64\n",
       "Goodwill                                                      float64\n",
       "Intangible Assets                                             float64\n",
       "Other Assets                                                  float64\n",
       "Deferred Asset Charges                                        float64\n",
       "Total Assets                                                  float64\n",
       "Current Liabilities                                           float64\n",
       "Accounts Payable                                              float64\n",
       "Short-Term Debt / Current Portion of Long-Term Debt           float64\n",
       "Other Current Liabilities                                     float64\n",
       "Total Current Liabilities                                     float64\n",
       "Long-Term Debt                                                float64\n",
       "Other Liabilities                                             float64\n",
       "Deferred Liability Charges                                    float64\n",
       "Misc. Stocks                                                  float64\n",
       "Total Liabilities                                             float64\n",
       "Stock Holders Equity                                          float64\n",
       "Common Stocks                                                 float64\n",
       "Capital Surplus                                               float64\n",
       "Retained Earnings                                             float64\n",
       "Treasury Stock                                                float64\n",
       "Other Equity                                                  float64\n",
       "Total Equity                                                  float64\n",
       "Total Liabilities & Equity                                    float64\n",
       "dtype: object"
      ]
     },
     "execution_count": 109,
     "metadata": {},
     "output_type": "execute_result"
    }
   ],
   "source": [
    "df['Period Ending:'] = pd.to_datetime(df['Period Ending:'])\n",
    "df.dtypes"
   ]
  },
  {
   "cell_type": "code",
   "execution_count": 113,
   "id": "d34119a4",
   "metadata": {},
   "outputs": [
    {
     "data": {
      "text/plain": [
       "Symbol                                                  object\n",
       "Period Ending:                                  datetime64[ns]\n",
       "Total Revenue                                          float64\n",
       "Cost of Revenue                                        float64\n",
       "Gross Profit                                           float64\n",
       "Net Income                                             float64\n",
       "Net Income Applicable to Common Shareholders           float64\n",
       "Total Assets                                           float64\n",
       "Total Liabilities                                      float64\n",
       "Total Equity                                           float64\n",
       "dtype: object"
      ]
     },
     "execution_count": 113,
     "metadata": {},
     "output_type": "execute_result"
    }
   ],
   "source": [
    "trans_df = df[selected_cols]\n",
    "trans_df.dtypes"
   ]
  },
  {
   "cell_type": "code",
   "execution_count": 114,
   "id": "4e55e128",
   "metadata": {},
   "outputs": [],
   "source": [
    "trans_df.to_csv('cleaned_financials.csv',index=False)"
   ]
  },
  {
   "cell_type": "code",
   "execution_count": 106,
   "id": "0ea69a44",
   "metadata": {},
   "outputs": [
    {
     "data": {
      "text/plain": [
       "Symbol                                                  object\n",
       "Period Ending:                                  datetime64[ns]\n",
       "Total Revenue                                          float64\n",
       "Cost of Revenue                                        float64\n",
       "Gross Profit                                           float64\n",
       "Net Income                                             float64\n",
       "Net Income Applicable to Common Shareholders           float64\n",
       "Total Assets                                           float64\n",
       "Total Liabilities                                      float64\n",
       "Total Equity                                           float64\n",
       "dtype: object"
      ]
     },
     "execution_count": 106,
     "metadata": {},
     "output_type": "execute_result"
    }
   ],
   "source": [
    "trans_df.dtypes"
   ]
  },
  {
   "cell_type": "code",
   "execution_count": 115,
   "id": "492a523d",
   "metadata": {},
   "outputs": [
    {
     "data": {
      "text/plain": [
       "Symbol                                           object\n",
       "Period Ending:                                   object\n",
       "Total Revenue                                   float64\n",
       "Cost of Revenue                                 float64\n",
       "Gross Profit                                    float64\n",
       "Net Income                                      float64\n",
       "Net Income Applicable to Common Shareholders    float64\n",
       "Total Assets                                    float64\n",
       "Total Liabilities                               float64\n",
       "Total Equity                                    float64\n",
       "dtype: object"
      ]
     },
     "execution_count": 115,
     "metadata": {},
     "output_type": "execute_result"
    }
   ],
   "source": [
    "new = pd.read_csv('cleaned_financials.csv')\n",
    "new.dtypes"
   ]
  },
  {
   "cell_type": "code",
   "execution_count": null,
   "id": "a6e91d12",
   "metadata": {},
   "outputs": [],
   "source": []
  }
 ],
 "metadata": {
  "kernelspec": {
   "display_name": "Python 3 (ipykernel)",
   "language": "python",
   "name": "python3"
  },
  "language_info": {
   "codemirror_mode": {
    "name": "ipython",
    "version": 3
   },
   "file_extension": ".py",
   "mimetype": "text/x-python",
   "name": "python",
   "nbconvert_exporter": "python",
   "pygments_lexer": "ipython3",
   "version": "3.9.13"
  }
 },
 "nbformat": 4,
 "nbformat_minor": 5
}
